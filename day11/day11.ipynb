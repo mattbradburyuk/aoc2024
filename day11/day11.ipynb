{
 "cells": [
  {
   "cell_type": "markdown",
   "metadata": {},
   "source": [
    "First version implemented with a python list, gets exponentially slower so won't work for part 2. \n",
    "\n",
    "(Only got to iteration 29 before seized up)\n"
   ]
  },
  {
   "cell_type": "code",
   "execution_count": 1,
   "metadata": {},
   "outputs": [],
   "source": [
    "path = \"./day11_input.txt\"\n",
    "# path = \"./day11_test.txt\"\n",
    "\n",
    "with open(path) as file:\n",
    "    strs = file.read().split()\n",
    "\n",
    "num_list = [int(s) for s in strs]\n",
    "# num_list = [125,17 ]"
   ]
  },
  {
   "cell_type": "code",
   "execution_count": 2,
   "metadata": {},
   "outputs": [
    {
     "name": "stdout",
     "output_type": "stream",
     "text": [
      "iter: 0, time: 2.6941299438476562e-05\n",
      "iter: 1, time: 1.3113021850585938e-05\n",
      "iter: 2, time: 1.5020370483398438e-05\n",
      "iter: 3, time: 2.2172927856445312e-05\n",
      "iter: 4, time: 2.5987625122070312e-05\n",
      "iter: 5, time: 4.506111145019531e-05\n",
      "iter: 6, time: 6.699562072753906e-05\n",
      "iter: 7, time: 8.988380432128906e-05\n",
      "iter: 8, time: 0.00014591217041015625\n",
      "iter: 9, time: 0.00023102760314941406\n",
      "iter: 10, time: 0.0003619194030761719\n",
      "iter: 11, time: 0.0005500316619873047\n",
      "iter: 12, time: 0.0009579658508300781\n",
      "iter: 13, time: 0.0019021034240722656\n",
      "iter: 14, time: 0.003198862075805664\n",
      "iter: 15, time: 0.00427699089050293\n",
      "iter: 16, time: 0.009053945541381836\n",
      "iter: 17, time: 0.019190073013305664\n",
      "iter: 18, time: 0.03771328926086426\n",
      "iter: 19, time: 0.10580706596374512\n",
      "iter: 20, time: 0.15116214752197266\n",
      "iter: 21, time: 0.3373868465423584\n",
      "iter: 22, time: 0.6718771457672119\n",
      "iter: 23, time: 1.753382921218872\n",
      "iter: 24, time: 5.543720960617065\n",
      "iter: 25, time: 7.793087959289551\n",
      "iter: 26, time: 19.50700306892395\n",
      "iter: 27, time: 48.41426205635071\n",
      "iter: 28, time: 123.1195421218872\n",
      "iter: 29, time: 279.09172201156616\n"
     ]
    },
    {
     "ename": "KeyboardInterrupt",
     "evalue": "",
     "output_type": "error",
     "traceback": [
      "\u001b[0;31m---------------------------------------------------------------------------\u001b[0m",
      "\u001b[0;31mKeyboardInterrupt\u001b[0m                         Traceback (most recent call last)",
      "Cell \u001b[0;32mIn[2], line 26\u001b[0m\n\u001b[1;32m     24\u001b[0m     lhs, rhs \u001b[38;5;241m=\u001b[39m split_num(num_list[l_ind])\n\u001b[1;32m     25\u001b[0m     num_list[l_ind] \u001b[38;5;241m=\u001b[39m lhs\n\u001b[0;32m---> 26\u001b[0m     \u001b[43mnum_list\u001b[49m\u001b[38;5;241;43m.\u001b[39;49m\u001b[43minsert\u001b[49m\u001b[43m(\u001b[49m\u001b[43ml_ind\u001b[49m\u001b[43m \u001b[49m\u001b[38;5;241;43m+\u001b[39;49m\u001b[38;5;241;43m1\u001b[39;49m\u001b[43m \u001b[49m\u001b[43m,\u001b[49m\u001b[43m \u001b[49m\u001b[43mrhs\u001b[49m\u001b[43m)\u001b[49m\n\u001b[1;32m     27\u001b[0m     l_ind \u001b[38;5;241m+\u001b[39m\u001b[38;5;241m=\u001b[39m\u001b[38;5;241m1\u001b[39m\n\u001b[1;32m     28\u001b[0m \u001b[38;5;28;01melse\u001b[39;00m:\n",
      "\u001b[0;31mKeyboardInterrupt\u001b[0m: "
     ]
    }
   ],
   "source": [
    "import math, time\n",
    "\n",
    "def num_digits(num): return math.floor(math.log10(num)) + 1 \n",
    "\n",
    "def has_even_digits(num): return True if num_digits(num) %2 == 0  else False\n",
    "\n",
    "\n",
    "def split_num(num):\n",
    "    \n",
    "    lhs_digits = math.floor(num / 10 ** (num_digits(num)/2))\n",
    "    rhs_digits = int(num - lhs_digits * 10 ** (num_digits(num)/2))\n",
    "    return lhs_digits, rhs_digits\n",
    "\n",
    "num_iter = 75\n",
    "\n",
    "for i in range(num_iter):\n",
    "    tic = time.time()\n",
    "    l_ind = 0\n",
    "    while l_ind < len(num_list):\n",
    "        num_list[l_ind]\n",
    "        if num_list[l_ind] == 0: \n",
    "            num_list[l_ind] += 1\n",
    "        elif has_even_digits(num_list[l_ind]): \n",
    "            lhs, rhs = split_num(num_list[l_ind])\n",
    "            num_list[l_ind] = lhs\n",
    "            num_list.insert(l_ind +1 , rhs)\n",
    "            l_ind +=1\n",
    "        else:\n",
    "            num_list[l_ind] *= 2024\n",
    "        l_ind += 1\n",
    "\n",
    "    # print(f\"iter {i}: {num_list}\")\n",
    "    toc = time.time()\n",
    "    print(f\"iter: {i}, time: {toc - tic}\")\n",
    "\n",
    "print(len(num_list))\n",
    "\n",
    "\n"
   ]
  },
  {
   "cell_type": "code",
   "execution_count": null,
   "metadata": {},
   "outputs": [],
   "source": []
  }
 ],
 "metadata": {
  "kernelspec": {
   "display_name": "aoc_2024",
   "language": "python",
   "name": "python3"
  },
  "language_info": {
   "codemirror_mode": {
    "name": "ipython",
    "version": 3
   },
   "file_extension": ".py",
   "mimetype": "text/x-python",
   "name": "python",
   "nbconvert_exporter": "python",
   "pygments_lexer": "ipython3",
   "version": "3.12.7"
  }
 },
 "nbformat": 4,
 "nbformat_minor": 2
}
