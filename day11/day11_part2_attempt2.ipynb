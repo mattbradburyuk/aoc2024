{
 "cells": [
  {
   "cell_type": "markdown",
   "metadata": {},
   "source": [
    "First version implemented with a python list, gets exponentially slower so won't work for part 2. \n",
    "\n",
    "first attempt at part 2 moved from a python list to a linked list on the hypothesis that the resizing of the list was slowing things down. got an improvement of ~ 2^12 but would still take ~100,000 years to run. hence need a different solution.\n",
    "\n",
    "Rather than keep a list of numbers on each stone, this solution keeps a track of the number of stones with each number. You can apply the update rule to the total count of a particular number stone rather than the individual stones. \n",
    "\n",
    "Generate a rules table so only have to calculate the update rule for each number once. \n",
    "\n",
    "The order doesn't matter\n",
    "\n"
   ]
  },
  {
   "cell_type": "code",
   "execution_count": 1,
   "metadata": {},
   "outputs": [],
   "source": [
    "path = \"./day11_input.txt\"\n",
    "# path = \"./day11_test.txt\"\n",
    "\n",
    "with open(path) as file:\n",
    "    strs = file.read().split()\n",
    "\n",
    "num_list = [int(s) for s in strs]\n",
    "# num_list = [125,17 ]\n",
    "# num_list =[0]"
   ]
  },
  {
   "cell_type": "code",
   "execution_count": 2,
   "metadata": {},
   "outputs": [],
   "source": [
    "import math, time\n",
    "\n",
    "def num_digits(num): return math.floor(math.log10(num)) + 1 \n",
    "\n",
    "def has_even_digits(num): return True if num_digits(num) %2 == 0  else False\n",
    "\n",
    "def split_num(num):\n",
    "    lhs_digits = math.floor(num / 10 ** (num_digits(num)/2))\n",
    "    rhs_digits = int(num - lhs_digits * 10 ** (num_digits(num)/2))\n",
    "    return [lhs_digits, rhs_digits]\n",
    "\n",
    "def calc_rule(num):\n",
    "    if num == 0: return [1]\n",
    "    if has_even_digits(num): return split_num(num)\n",
    "    else: return [num * 2024]\n",
    "\n"
   ]
  },
  {
   "cell_type": "code",
   "execution_count": null,
   "metadata": {},
   "outputs": [],
   "source": []
  },
  {
   "cell_type": "code",
   "execution_count": 3,
   "metadata": {},
   "outputs": [
    {
     "name": "stdout",
     "output_type": "stream",
     "text": [
      "{0: 1, 37551: 1, 469: 1, 63: 1, 1: 1, 791606: 1, 2065: 1, 9983586: 1}\n",
      "241651071960597\n",
      "time:  0.09870171546936035\n"
     ]
    }
   ],
   "source": [
    "# Use a dictionary to store number: count and update function\n",
    "\n",
    "\n",
    "# {number: update rule}\n",
    "rules = dict()\n",
    "\n",
    "# {number: (current, next)}\n",
    "stones = dict()\n",
    "\n",
    "# stones[0] = 1\n",
    "# stones[1] = 1\n",
    "# stones[10] = 1\n",
    "# stones[99] = 1\n",
    "# stones[999] = 1\n",
    "\n",
    "# stones[125] = 1\n",
    "# stones[17] = 1\n",
    "\n",
    "for n in num_list:\n",
    "    stones[n] = 1\n",
    "\n",
    "print(stones)\n",
    "\n",
    "iter = 75\n",
    "\n",
    "tic = time.time()\n",
    "\n",
    "for i in range(iter):\n",
    "\n",
    "    # create a copy of stones so can iterate over whilst changing original stones\n",
    "    stones_copy_list = list(stones.items())\n",
    "    #new dict for next iteration\n",
    "    stones = dict()\n",
    "\n",
    "    for num, count in stones_copy_list :\n",
    "\n",
    "        # if the number doesnt' have a rule add it\n",
    "        if not num in rules:\n",
    "            rules[num] = calc_rule(num)\n",
    "\n",
    "        # rule has either 1 or two enties\n",
    "        rule = rules[num]\n",
    "\n",
    "            # need to update or insert new \n",
    "        if rule[0] in stones:\n",
    "            stones[rule[0]] += count\n",
    "        else: \n",
    "            stones[rule[0]] = count\n",
    "        \n",
    "        if len(rule) == 2: \n",
    "            if rule[1] in stones:\n",
    "                stones[rule[1]] += count\n",
    "            else: \n",
    "                stones[rule[1]] = count\n",
    "    # print(f\"fiter {i}: {stones}\")\n",
    "\n",
    "toc = time.time()\n",
    "print(sum(stones.values()))\n",
    "print(\"time: \", toc-tic)"
   ]
  },
  {
   "cell_type": "code",
   "execution_count": null,
   "metadata": {},
   "outputs": [],
   "source": []
  }
 ],
 "metadata": {
  "kernelspec": {
   "display_name": "aoc_2024",
   "language": "python",
   "name": "python3"
  },
  "language_info": {
   "codemirror_mode": {
    "name": "ipython",
    "version": 3
   },
   "file_extension": ".py",
   "mimetype": "text/x-python",
   "name": "python",
   "nbconvert_exporter": "python",
   "pygments_lexer": "ipython3",
   "version": "3.12.7"
  }
 },
 "nbformat": 4,
 "nbformat_minor": 2
}
