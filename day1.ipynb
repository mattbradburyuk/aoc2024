{
 "cells": [
  {
   "cell_type": "code",
   "execution_count": null,
   "metadata": {},
   "outputs": [],
   "source": [
    "# Extract 2 sorted lists of ints\n",
    "\n",
    "path = \"day1_input.txt\"\n",
    "# path = \"day1_test.txt\"\n",
    "\n",
    "with open(path) as file:\n",
    "    contents = file.read()\n",
    "\n",
    "lines = contents.splitlines()\n",
    "\n",
    "str_list_1 = []\n",
    "str_list_2 = []\n",
    "\n",
    "for l1 in lines:\n",
    "    left, right = l1.split()\n",
    "    str_list_1.append(left)\n",
    "    str_list_2.append(right)\n",
    "\n",
    "list_1 = list(map(int, str_list_1))\n",
    "list_2 = list(map(int, str_list_2))\n",
    "\n",
    "list_1.sort()\n",
    "list_2.sort()\n"
   ]
  },
  {
   "cell_type": "code",
   "execution_count": 13,
   "metadata": {},
   "outputs": [
    {
     "name": "stdout",
     "output_type": "stream",
     "text": [
      "diff:  3508942\n"
     ]
    }
   ],
   "source": [
    "# Task 1\n",
    "diff = 0\n",
    "\n",
    "for l1, l2 in zip(list_1, list_2):\n",
    "    diff += abs(l1 - l2)\n",
    "\n",
    "print(\"diff: \", diff) \n"
   ]
  },
  {
   "cell_type": "code",
   "execution_count": null,
   "metadata": {},
   "outputs": [
    {
     "name": "stdout",
     "output_type": "stream",
     "text": [
      "26593248\n"
     ]
    }
   ],
   "source": [
    "# Task 2\n",
    "\n",
    "d = dict()\n",
    "\n",
    "# set up dictionary of l1 values + count number of each value in d[l1][0]\n",
    "for l1 in list_1:\n",
    "    if l1 not in d:\n",
    "        d[l1] = [1,0]\n",
    "    else:\n",
    "       d[l1][0] += 1 \n",
    "\n",
    "# for each value in l2 increment d[l2][1] \n",
    "for l2 in list_2:\n",
    "    if l2 in d:\n",
    "        d[l2][1] +=1\n",
    "\n",
    "# Calculate the simalarity score\n",
    "sim = 0 \n",
    "for i in d:    \n",
    "    sim += d[i][0] * d[i][1] * i\n",
    "\n",
    "print(sim)"
   ]
  }
 ],
 "metadata": {
  "kernelspec": {
   "display_name": "aoc_2024",
   "language": "python",
   "name": "python3"
  },
  "language_info": {
   "codemirror_mode": {
    "name": "ipython",
    "version": 3
   },
   "file_extension": ".py",
   "mimetype": "text/x-python",
   "name": "python",
   "nbconvert_exporter": "python",
   "pygments_lexer": "ipython3",
   "version": "3.12.7"
  }
 },
 "nbformat": 4,
 "nbformat_minor": 2
}
