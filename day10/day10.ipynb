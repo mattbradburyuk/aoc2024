{
 "cells": [
  {
   "cell_type": "code",
   "execution_count": 1,
   "metadata": {},
   "outputs": [],
   "source": [
    "path = \"./day10_input.txt\"\n",
    "# path = \"./day10_test.txt\"\n",
    "\n",
    "with open(path) as file:\n",
    "    lines = file.read().splitlines()\n",
    "\n",
    "data = [[int(s) for s in line] for line in lines]"
   ]
  },
  {
   "cell_type": "code",
   "execution_count": 2,
   "metadata": {},
   "outputs": [],
   "source": [
    "from typing import Tuple\n",
    "\n",
    "\n",
    "def is_in_bounds(pos):\n",
    "    return  (pos[0] >= 0 and\n",
    "        pos[1] >= 0 and\n",
    "        pos [0] < len(data) and\n",
    "        pos[1] < len(data[0]))\n",
    "\n",
    "\n",
    "def check_for_next_num(pos: Tuple[int,int], target: int, results: set):\n",
    "\n",
    "    # check pos in bounds\n",
    "    if not is_in_bounds(pos): return\n",
    "    \n",
    "    num = data[pos[0]][pos[1]]\n",
    "\n",
    "    # if num not target then return\n",
    "    if num != target: return\n",
    "\n",
    "    # if a 9, store result in set\n",
    "    if num == 9: \n",
    "        results.add(pos)\n",
    "\n",
    "    # recurse in all directions\n",
    "    # up\n",
    "    check_for_next_num((pos[0]-1,pos[1]), target + 1, results)\n",
    "    # down\n",
    "    check_for_next_num((pos[0]+1,pos[1]), target + 1, results)\n",
    "    # left\n",
    "    check_for_next_num((pos[0],pos[1]-1), target + 1, results)\n",
    "    # right\n",
    "    check_for_next_num((pos[0],pos[1]+1), target + 1, results)\n",
    "\n",
    "\n"
   ]
  },
  {
   "cell_type": "code",
   "execution_count": 3,
   "metadata": {},
   "outputs": [
    {
     "data": {
      "text/plain": [
       "set()"
      ]
     },
     "execution_count": 3,
     "metadata": {},
     "output_type": "execute_result"
    }
   ],
   "source": [
    "# test check_for_next_num() on test set\n",
    "\n",
    "pos = (0,2)\n",
    "test_results = set()\n",
    "check_for_next_num(pos, 0, test_results)\n",
    "test_results"
   ]
  },
  {
   "cell_type": "code",
   "execution_count": 4,
   "metadata": {},
   "outputs": [
    {
     "data": {
      "text/plain": [
       "0"
      ]
     },
     "execution_count": 4,
     "metadata": {},
     "output_type": "execute_result"
    }
   ],
   "source": [
    "def check_zero(pos):\n",
    "    results = set()\n",
    "    check_for_next_num(pos, 0, results)\n",
    "    return len(results)\n",
    "\n",
    "pos = (0,2)\n",
    "check_zero(pos)"
   ]
  },
  {
   "cell_type": "code",
   "execution_count": 5,
   "metadata": {},
   "outputs": [
    {
     "data": {
      "text/plain": [
       "582"
      ]
     },
     "execution_count": 5,
     "metadata": {},
     "output_type": "execute_result"
    }
   ],
   "source": [
    "sum([check_zero((row,col)) for row in range(len(data)) for col in range(len(data[0])) if data[row][col] == 0])"
   ]
  },
  {
   "cell_type": "code",
   "execution_count": null,
   "metadata": {},
   "outputs": [],
   "source": []
  }
 ],
 "metadata": {
  "kernelspec": {
   "display_name": "aoc_2024",
   "language": "python",
   "name": "python3"
  },
  "language_info": {
   "codemirror_mode": {
    "name": "ipython",
    "version": 3
   },
   "file_extension": ".py",
   "mimetype": "text/x-python",
   "name": "python",
   "nbconvert_exporter": "python",
   "pygments_lexer": "ipython3",
   "version": "3.12.7"
  }
 },
 "nbformat": 4,
 "nbformat_minor": 2
}
