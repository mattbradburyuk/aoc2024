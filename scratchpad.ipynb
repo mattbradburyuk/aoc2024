{
 "cells": [
  {
   "cell_type": "code",
   "execution_count": 12,
   "metadata": {},
   "outputs": [
    {
     "name": "stdout",
     "output_type": "stream",
     "text": [
      "[0, 1, 2, 3, 4, 5, 6, 7, 8, 9]\n",
      "[0, 1, 4, 9, 16, 25, 36, 49, 64, 81]\n",
      "[0, 1, 2, 3, 5, 6, 7, 8, 9]\n",
      "0 1 2 3 4 \n",
      "\n"
     ]
    }
   ],
   "source": [
    "\n",
    "# Comprehensions\n",
    "\n",
    "r = list(range(0,10))\n",
    "d = [x*x for x in r]\n",
    "print(r)\n",
    "print(d)\n",
    "\n",
    "# generator to exclude items from a list\n",
    "\n",
    "gen = (r[i] for i in r if i != 4)\n",
    "\n",
    "print(list(gen))\n",
    "\n",
    "def yield_test():\n",
    "    counter = 0\n",
    "    while True:\n",
    "        yield counter\n",
    "        counter += 1\n",
    "\n",
    "gen = yield_test()\n",
    "\n",
    "for i in range(5):\n",
    "    print(next(gen), end = \" \")\n",
    "print(\"\\n\")\n",
    "\n"
   ]
  }
 ],
 "metadata": {
  "kernelspec": {
   "display_name": "aoc_2024",
   "language": "python",
   "name": "python3"
  },
  "language_info": {
   "codemirror_mode": {
    "name": "ipython",
    "version": 3
   },
   "file_extension": ".py",
   "mimetype": "text/x-python",
   "name": "python",
   "nbconvert_exporter": "python",
   "pygments_lexer": "ipython3",
   "version": "3.12.7"
  }
 },
 "nbformat": 4,
 "nbformat_minor": 2
}
