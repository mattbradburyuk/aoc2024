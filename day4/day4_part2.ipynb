{
 "cells": [
  {
   "cell_type": "code",
   "execution_count": 1,
   "metadata": {},
   "outputs": [],
   "source": [
    "# pre data\n",
    "path = \"./day4_input.txt\"\n",
    "# path = \"./day4_test.txt\"\n",
    "\n",
    "with open(path) as file:\n",
    "    contents = file.read()\n",
    "\n",
    "lines = contents.splitlines()\n",
    "\n",
    "# split lines int a 2d array of chars\n",
    "data = [[char for char in line] for line in lines]\n",
    "\n",
    "# print(data)"
   ]
  },
  {
   "cell_type": "code",
   "execution_count": null,
   "metadata": {},
   "outputs": [],
   "source": [
    "def equals(a, b):\n",
    "    return a[0][0]==b[0][0] and a[0][2]==b[0][2] and a[1][1]==b[1][1] and a[2][0]==b[2][0] and a[2][2]==b[2][2]\n"
   ]
  },
  {
   "cell_type": "code",
   "execution_count": 3,
   "metadata": {},
   "outputs": [],
   "source": [
    "def match(grid):\n",
    "    p1 = [['M','','M'],['','A',''],['S','','S']]\n",
    "    p2 = [['M','','S'],['','A',''],['M','','S']]\n",
    "    p3 = [['S','','M'],['','A',''],['S','','M']]\n",
    "    p4 = [['S','','S'],['','A',''],['M','','M']]\n",
    "\n",
    "    return equals(grid,p1) or equals(grid,p2) or equals(grid,p3) or equals(grid,p4)"
   ]
  },
  {
   "cell_type": "code",
   "execution_count": 4,
   "metadata": {},
   "outputs": [],
   "source": [
    "def get_grid(data,row, col):\n",
    "    return [[data[r][c] for c in range(col-1,col+2)] for r in range(row-1,row+2)]"
   ]
  },
  {
   "cell_type": "code",
   "execution_count": 5,
   "metadata": {},
   "outputs": [
    {
     "name": "stdout",
     "output_type": "stream",
     "text": [
      "1960\n"
     ]
    }
   ],
   "source": [
    "count = 0\n",
    "for r in range(1,len(data)-1):\n",
    "    for c in range(1,len(data[0])-1):\n",
    "        if match(get_grid(data,r,c)):\n",
    "            count +=1\n",
    "\n",
    "print(count)"
   ]
  },
  {
   "cell_type": "code",
   "execution_count": 11,
   "metadata": {},
   "outputs": [
    {
     "data": {
      "text/plain": [
       "True"
      ]
     },
     "execution_count": 11,
     "metadata": {},
     "output_type": "execute_result"
    }
   ],
   "source": [
    "a = (1,2)\n",
    "b = ((1,2),)\n",
    "\n",
    "a in b"
   ]
  }
 ],
 "metadata": {
  "kernelspec": {
   "display_name": "aoc_2024",
   "language": "python",
   "name": "python3"
  },
  "language_info": {
   "codemirror_mode": {
    "name": "ipython",
    "version": 3
   },
   "file_extension": ".py",
   "mimetype": "text/x-python",
   "name": "python",
   "nbconvert_exporter": "python",
   "pygments_lexer": "ipython3",
   "version": "3.12.7"
  }
 },
 "nbformat": 4,
 "nbformat_minor": 2
}
