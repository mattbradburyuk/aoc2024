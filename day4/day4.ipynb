{
 "cells": [
  {
   "cell_type": "code",
   "execution_count": 1,
   "metadata": {},
   "outputs": [],
   "source": [
    "# pre data\n",
    "path = \"./day4_input.txt\"\n",
    "# path = \"./day4_test.txt\"\n",
    "\n",
    "with open(path) as file:\n",
    "    contents = file.read()\n",
    "\n",
    "lines = contents.splitlines()\n",
    "\n",
    "# split lines int a 2d array of chars\n",
    "data = [[char for char in line] for line in lines]\n"
   ]
  },
  {
   "cell_type": "code",
   "execution_count": 2,
   "metadata": {},
   "outputs": [],
   "source": [
    "# generate vertical strings\n",
    "\n",
    "def gen_vert_strs(data):\n",
    "    vert_chars = [[data[r][col] for r in range(len(data))] for col in range(len(data[0]))]\n",
    "    return [''.join(v) for v in vert_chars]\n"
   ]
  },
  {
   "cell_type": "code",
   "execution_count": 3,
   "metadata": {},
   "outputs": [],
   "source": [
    "# generate diagonal strings \n",
    "\n",
    "def get_right_diag(data, row, col):\n",
    "    diag =[]\n",
    "    while row < len(data) and col < len(data[0]):\n",
    "        diag.append(data[row][col])\n",
    "        row += 1\n",
    "        col += 1\n",
    "    return diag\n",
    "\n",
    "# from a starting point go diagonally down and left\n",
    "def get_left_diag(data, row, col):\n",
    "    diag =[]\n",
    "    while row < len(data) and col >= 0:\n",
    "        diag.append(data[row][col])\n",
    "        row += 1\n",
    "        col -= 1\n",
    "    return diag\n",
    "\n",
    "def gen_diag_strs(data):\n",
    "\n",
    "    r_diag_col = [get_right_diag(data, 0, col) for col in range(len(data[0]))]\n",
    "    r_diag_row = [get_right_diag(data, row, 0) for row in range(1,len(data))]     \n",
    "    l_diag_col = [get_left_diag(data, 0, col) for col in range(len(data[0]))]\n",
    "    l_diag_row = [get_left_diag(data, row, len(data[0])-1) for row in range(1,len(data))]\n",
    "    \n",
    "    diags = r_diag_col + r_diag_row + l_diag_col + l_diag_row\n",
    "\n",
    "    return [''.join(d) for d in diags]\n",
    "\n"
   ]
  },
  {
   "cell_type": "code",
   "execution_count": 4,
   "metadata": {},
   "outputs": [
    {
     "name": "stdout",
     "output_type": "stream",
     "text": [
      "2517\n"
     ]
    }
   ],
   "source": [
    "import re\n",
    "\n",
    "regex_forward = r\"XMAS\"\n",
    "regex_backwards = r\"SAMX\"\n",
    "\n",
    "strs = lines + gen_diag_strs(data) + gen_vert_strs(data)\n",
    "\n",
    "count = 0 \n",
    "for s in strs: \n",
    "    \n",
    "    forward = re.findall(regex_forward, s)\n",
    "    backward = re.findall(regex_backwards, s)\n",
    "    count += len(forward) + len(backward)\n",
    "\n",
    "print(count)\n"
   ]
  }
 ],
 "metadata": {
  "kernelspec": {
   "display_name": "aoc_2024",
   "language": "python",
   "name": "python3"
  },
  "language_info": {
   "codemirror_mode": {
    "name": "ipython",
    "version": 3
   },
   "file_extension": ".py",
   "mimetype": "text/x-python",
   "name": "python",
   "nbconvert_exporter": "python",
   "pygments_lexer": "ipython3",
   "version": "3.12.7"
  }
 },
 "nbformat": 4,
 "nbformat_minor": 2
}
