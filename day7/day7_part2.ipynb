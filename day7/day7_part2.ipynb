{
 "cells": [
  {
   "cell_type": "code",
   "execution_count": 5,
   "metadata": {},
   "outputs": [],
   "source": [
    "path = \"./day7_input.txt\"\n",
    "# path = \"./day7_test.txt\"\n",
    "\n",
    "with open(path) as file:\n",
    "    lines = file.read().splitlines()\n",
    "\n",
    "equations =[]\n",
    "\n",
    "for l in lines:\n",
    "    answer, num_strs = l.split(\":\")\n",
    "    num_ints = [int(s) for s in num_strs.split()]\n",
    "    equations.append((int(answer), num_ints))\n",
    "\n",
    "# for e in equations:\n",
    "#     print(e)\n"
   ]
  },
  {
   "cell_type": "code",
   "execution_count": null,
   "metadata": {},
   "outputs": [
    {
     "name": "stdout",
     "output_type": "stream",
     "text": [
      "1026766857276279\n"
     ]
    }
   ],
   "source": [
    "def add(a: int, b: int): return a + b\n",
    "def mul(a: int, b: int): return a * b\n",
    "def con(a: int, b: int): return int(str(a)+ str(b))\n",
    "\n",
    "\n",
    "def check_eq(total, target, eq_ind, nums_ind, func) -> bool:\n",
    "    # print(f\"check_eq called with total: {total}, target: {target}, eq_ind: {eq_ind}, nums_ind: {nums_ind}, func: {func}\")\n",
    "\n",
    "    # calc result\n",
    "    new_total = func(total, equations[eq_ind][1][nums_ind])\n",
    "    # check if success\n",
    "    if new_total == target: return True\n",
    "    # check if any more numbers to consider\n",
    "    if nums_ind == len(equations[eq_ind][1]) - 1: return False\n",
    "    # check adding the next number\n",
    "    if check_eq(new_total, target, eq_ind, nums_ind + 1, add): return True \n",
    "    # check muliplying next number\n",
    "    if check_eq(new_total, target, eq_ind, nums_ind + 1, mul): return True\n",
    "    # check concat next number\n",
    "    if check_eq(new_total, target, eq_ind, nums_ind + 1, con): return True\n",
    "    # current branch doesn't have a solution\n",
    "    return False\n",
    "\n",
    "sum = 0\n",
    "for eq_ind in range(len(equations)):\n",
    "    add_branch = check_eq(equations[eq_ind][1][0], equations[eq_ind][0], eq_ind, 1, add)\n",
    "    mul_branch = check_eq(equations[eq_ind][1][0], equations[eq_ind][0], eq_ind, 1, mul)\n",
    "    con_branch = check_eq(equations[eq_ind][1][0], equations[eq_ind][0], eq_ind, 1, con)\n",
    "    if add_branch or mul_branch or con_branch: \n",
    "        sum += equations[eq_ind][0]\n",
    "\n",
    "print(sum)"
   ]
  }
 ],
 "metadata": {
  "kernelspec": {
   "display_name": "aoc_2024",
   "language": "python",
   "name": "python3"
  },
  "language_info": {
   "codemirror_mode": {
    "name": "ipython",
    "version": 3
   },
   "file_extension": ".py",
   "mimetype": "text/x-python",
   "name": "python",
   "nbconvert_exporter": "python",
   "pygments_lexer": "ipython3",
   "version": "3.12.7"
  }
 },
 "nbformat": 4,
 "nbformat_minor": 2
}
