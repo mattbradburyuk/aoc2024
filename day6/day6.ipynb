{
 "cells": [
  {
   "cell_type": "code",
   "execution_count": 1,
   "metadata": {},
   "outputs": [
    {
     "name": "stdout",
     "output_type": "stream",
     "text": [
      "(52, 72)\n",
      "0\n"
     ]
    }
   ],
   "source": [
    "# Set up\n",
    "\n",
    "path = \"./day6_input.txt\"\n",
    "# path = \"./day6_test.txt\"\n",
    "\n",
    "with open(path) as file:\n",
    "    lines = file.read().splitlines()\n",
    "\n",
    "grid = [[s for s in line] for line in lines]   # this line might not be necessary as the string is already an array of strings\n",
    "\n",
    "start_pos = [(r,c) for r in range(len(grid)) for c in range(len(grid[0])) if grid[r][c] == '^'][0] # [0] extracts the tuple from the list of 1\n",
    "\n",
    "print(start_pos)\n",
    "\n",
    "print(grid.count(\"#\"))"
   ]
  },
  {
   "cell_type": "code",
   "execution_count": 2,
   "metadata": {},
   "outputs": [],
   "source": [
    "class GridStateMachine:\n",
    "\n",
    "    UP = (-1,0)\n",
    "    DOWN = (1,0)\n",
    "    LEFT = (0,-1)\n",
    "    RIGHT = (0,1)\n",
    "    DIRECTIONS = (UP,RIGHT,DOWN,LEFT)\n",
    "\n",
    "    def __init__(self, grid, start):\n",
    "        self.grid = grid\n",
    "        self.pos = start\n",
    "        self.dir_ind = 0\n",
    "\n",
    "\n",
    "    def run(self):\n",
    "        run = True\n",
    "        self.markx()\n",
    "        while run: \n",
    "            # get next_pos by addind direction to pos\n",
    "            next_pos = self.next_pos()\n",
    "            # out of bounds\n",
    "            if self.out_of_bounds(next_pos): \n",
    "                run = False\n",
    "            # obstacle\n",
    "            elif self.grid[next_pos[0]][next_pos[1]] == '#': \n",
    "                self.turn()\n",
    "            # update pos\n",
    "            else: \n",
    "                self.pos = next_pos\n",
    "                self.markx()\n",
    "                \n",
    "            # print(\"grid:\")\n",
    "            # for r in self.grid:\n",
    "            #     print(r)\n",
    "\n",
    "    def markx(self):\n",
    "        self.grid[self.pos[0]][self.pos[1]] = 'X'  \n",
    "\n",
    "    def next_pos(self):\n",
    "        dir = self.DIRECTIONS[self.dir_ind]\n",
    "        return (self.pos[0]+ dir[0], self.pos[1] + dir[1])\n",
    "        \n",
    "\n",
    "    def out_of_bounds(self, next_pos):\n",
    "        if next_pos[0] < 0: return True             # row under\n",
    "        if next_pos[1] < 0: return True             # col under\n",
    "        if next_pos[0] >= len(self.grid): return True    # row over\n",
    "        if next_pos[1] >= len(self.grid[0]): return True # col over\n",
    "\n",
    "    \n",
    "    def turn(self):\n",
    "        self.dir_ind = (self.dir_ind + 1) % 4\n",
    "\n",
    "    \n",
    "    def count_visits(self):\n",
    "        sum = 0\n",
    "        for r in self.grid:\n",
    "            sum += r.count('X')\n",
    "        return sum\n"
   ]
  },
  {
   "cell_type": "code",
   "execution_count": 3,
   "metadata": {},
   "outputs": [],
   "source": [
    "gsm = GridStateMachine(grid, start_pos)\n",
    "gsm.run()"
   ]
  },
  {
   "cell_type": "code",
   "execution_count": 4,
   "metadata": {},
   "outputs": [
    {
     "data": {
      "text/plain": [
       "4977"
      ]
     },
     "execution_count": 4,
     "metadata": {},
     "output_type": "execute_result"
    }
   ],
   "source": [
    "gsm.count_visits()"
   ]
  },
  {
   "cell_type": "code",
   "execution_count": 5,
   "metadata": {},
   "outputs": [
    {
     "data": {
      "text/plain": [
       "4977"
      ]
     },
     "execution_count": 5,
     "metadata": {},
     "output_type": "execute_result"
    }
   ],
   "source": [
    "gsm.count_visits()"
   ]
  },
  {
   "cell_type": "code",
   "execution_count": 6,
   "metadata": {},
   "outputs": [
    {
     "data": {
      "text/plain": [
       "()"
      ]
     },
     "execution_count": 6,
     "metadata": {},
     "output_type": "execute_result"
    }
   ],
   "source": [
    "()"
   ]
  }
 ],
 "metadata": {
  "kernelspec": {
   "display_name": "aoc_2024",
   "language": "python",
   "name": "python3"
  },
  "language_info": {
   "codemirror_mode": {
    "name": "ipython",
    "version": 3
   },
   "file_extension": ".py",
   "mimetype": "text/x-python",
   "name": "python",
   "nbconvert_exporter": "python",
   "pygments_lexer": "ipython3",
   "version": "3.12.7"
  }
 },
 "nbformat": 4,
 "nbformat_minor": 2
}
