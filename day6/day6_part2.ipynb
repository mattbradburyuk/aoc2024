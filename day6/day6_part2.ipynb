{
 "cells": [
  {
   "cell_type": "code",
   "execution_count": 1,
   "metadata": {},
   "outputs": [
    {
     "name": "stdout",
     "output_type": "stream",
     "text": [
      "(6, 4)\n",
      "There are 8 #\n",
      "there are : 10 rows\n",
      "There are : 10 columns\n"
     ]
    }
   ],
   "source": [
    "# Set up\n",
    "\n",
    "# path = \"./day6_input.txt\"\n",
    "path = \"./day6_test.txt\"\n",
    "\n",
    "with open(path) as file:\n",
    "    lines = file.read().splitlines()\n",
    "\n",
    "grid = [[s for s in line] for line in lines]   # this line might not be necessary as the string is already an array of strings\n",
    "\n",
    "start_pos = [(r,c) for r in range(len(grid)) for c in range(len(grid[0])) if grid[r][c] == '^'][0] # [0] extracts the tuple from the list of 1\n",
    "\n",
    "print(start_pos)\n",
    "\n",
    "sum = 0 \n",
    "for r in grid:\n",
    "    sum += r.count('#')\n",
    "print(f\"There are {sum} #\")\n",
    "print(f\"there are : {len(grid)} rows\")\n",
    "print(f\"There are : {len(grid[0])} columns\")"
   ]
  },
  {
   "cell_type": "code",
   "execution_count": null,
   "metadata": {},
   "outputs": [],
   "source": [
    "import copy\n",
    "import os\n",
    "\n",
    "class GridStateMachine:\n",
    "\n",
    "    UP = (-1,0)\n",
    "    RIGHT = (0,1)\n",
    "    DOWN = (1,0)\n",
    "    LEFT = (0,-1)\n",
    "    \n",
    "    DIRECTIONS = (UP,RIGHT,DOWN,LEFT)\n",
    "\n",
    "    def __init__(self, grid, start, dir_ind, with_obs:bool=False):\n",
    "        self.grid = grid\n",
    "        self.pos = start\n",
    "        self.with_obs = with_obs\n",
    "        self.dir_ind = dir_ind\n",
    "        self.state_list = [(self.pos, self.dir_ind)]\n",
    "        self.obs_list = []\n",
    "\n",
    "\n",
    "    def run(self) -> bool: # return true if a loop, false if exits grid\n",
    "        run = True\n",
    "        while run: \n",
    "            # get next_pos by addind direction to pos \n",
    "            next_pos = self.next_pos()\n",
    "            \n",
    "            # check for loop with obstacle in next_pos\n",
    "            if self.with_obs: self.check_with_obs(next_pos)\n",
    "                \n",
    "            # out of bounds\n",
    "            if self.out_of_bounds(next_pos): \n",
    "                return False\n",
    "            # obstacle\n",
    "            elif self.grid[next_pos[0]][next_pos[1]] in ['#','O']: \n",
    "                self.turn()\n",
    "            # update pos\n",
    "            else: \n",
    "                self.pos = next_pos\n",
    "                self.mark_pos()\n",
    "                # check if state has been visited before, if so return True (ie there is a loop)\n",
    "                loop = self.check_state()\n",
    "                if loop: \n",
    "                    self.write_grid_to_file()\n",
    "                    return True\n",
    "\n",
    "\n",
    "    def write_grid_to_file(self):\n",
    "\n",
    "        # find the O\n",
    "        pos = (0,0)\n",
    "        for r_ind, r in enumerate(self.grid):\n",
    "            for c_ind, c in enumerate(r):\n",
    "                if c == 'O':\n",
    "                    pos = (r_ind, c_ind)\n",
    "        if os.path.exists(\"./outputs\"):\n",
    "            os.rmdir(\"./outputs\")\n",
    "        os.mkdir(\"./outputs\")\n",
    "        with open(f\"./outputs/grid_for_obs_at_{pos}.txt\", \"w\") as file:\n",
    "            for row in self.grid:\n",
    "                file.write(\"\".join(map(str, row)) + \"\\n\")\n",
    "\n",
    "    def check_with_obs(self, next_pos):\n",
    "        if next_pos == (7,6):\n",
    "            pass\n",
    "        # take a copy of the grid\n",
    "        grid_copy = copy.deepcopy(self.grid)\n",
    "        # add the obstacle at next_pos\n",
    "        if not self.out_of_bounds(next_pos):\n",
    "            grid_copy[next_pos[0]][next_pos[1]] = 'O'\n",
    "            gsm = GridStateMachine(grid_copy, self.pos, self.dir_ind, False)\n",
    "            loop_found = gsm.run()\n",
    "            if loop_found: \n",
    "                print(\"loop_found with obstacle position: \", next_pos)\n",
    "                if not next_pos in self.obs_list: self.obs_list.append(next_pos)\n",
    "            \n",
    "    # Returns True if state has already been visited ie is a loop, if not adds state to state_list and returns false\n",
    "    def check_state(self):\n",
    "        state = (self.pos, self.dir_ind)\n",
    "        if state in self.state_list:\n",
    "            return True\n",
    "        else:\n",
    "            self.state_list.append(state)\n",
    "            return False\n",
    "    \n",
    "    def mark_pos(self):\n",
    "        current_marker = self.grid[self.pos[0]][self.pos[1]]\n",
    "        if current_marker == '.':\n",
    "            if self.dir_ind in [0,2]: \n",
    "                self.grid[self.pos[0]][self.pos[1]] = '|'\n",
    "            else: \n",
    "                self.grid[self.pos[0]][self.pos[1]] = '-'\n",
    "        elif current_marker == '|' and self.dir_ind in [1,3]:\n",
    "            self.grid[self.pos[0]][self.pos[1]] = '+'\n",
    "        elif current_marker == '|' and self.dir_ind in [0,2]: \n",
    "            pass\n",
    "        elif current_marker == '-' and self.dir_ind in [0,2]: \n",
    "            self.grid[self.pos[0]][self.pos[1]] = '+'\n",
    "        elif current_marker == '-' and self.dir_ind in [1,3]:\n",
    "            pass\n",
    "        elif current_marker in ['^','+']:\n",
    "            pass\n",
    "        else:\n",
    "            raise Exception('marker error with marker: ', current_marker)\n",
    "\n",
    "    def next_pos(self):\n",
    "        dir = self.DIRECTIONS[self.dir_ind]\n",
    "        return (self.pos[0]+ dir[0], self.pos[1] + dir[1])\n",
    "        \n",
    "\n",
    "    def out_of_bounds(self, next_pos):\n",
    "        if next_pos[0] < 0: return True             # row under\n",
    "        if next_pos[1] < 0: return True             # col under\n",
    "        if next_pos[0] >= len(self.grid): return True    # row over\n",
    "        if next_pos[1] >= len(self.grid[0]): return True # col over\n",
    "\n",
    "    \n",
    "    def turn(self):\n",
    "        self.dir_ind = (self.dir_ind + 1) % 4\n",
    "\n"
   ]
  },
  {
   "cell_type": "code",
   "execution_count": 3,
   "metadata": {},
   "outputs": [
    {
     "ename": "FileNotFoundError",
     "evalue": "[Errno 2] No such file or directory: 'outputs'",
     "output_type": "error",
     "traceback": [
      "\u001b[0;31m---------------------------------------------------------------------------\u001b[0m",
      "\u001b[0;31mFileNotFoundError\u001b[0m                         Traceback (most recent call last)",
      "Cell \u001b[0;32mIn[3], line 2\u001b[0m\n\u001b[1;32m      1\u001b[0m gsm \u001b[38;5;241m=\u001b[39m GridStateMachine(grid, start_pos,\u001b[38;5;241m0\u001b[39m, \u001b[38;5;28;01mTrue\u001b[39;00m)\n\u001b[0;32m----> 2\u001b[0m \u001b[43mgsm\u001b[49m\u001b[38;5;241;43m.\u001b[39;49m\u001b[43mrun\u001b[49m\u001b[43m(\u001b[49m\u001b[43m)\u001b[49m\n\u001b[1;32m      3\u001b[0m \u001b[38;5;28mprint\u001b[39m(gsm\u001b[38;5;241m.\u001b[39mobs_list)\n\u001b[1;32m      4\u001b[0m \u001b[38;5;28mprint\u001b[39m(\u001b[38;5;124m\"\u001b[39m\u001b[38;5;124mobs: \u001b[39m\u001b[38;5;124m\"\u001b[39m,\u001b[38;5;28mlen\u001b[39m(gsm\u001b[38;5;241m.\u001b[39mobs_list))\n",
      "Cell \u001b[0;32mIn[2], line 29\u001b[0m, in \u001b[0;36mGridStateMachine.run\u001b[0;34m(self)\u001b[0m\n\u001b[1;32m     26\u001b[0m next_pos \u001b[38;5;241m=\u001b[39m \u001b[38;5;28mself\u001b[39m\u001b[38;5;241m.\u001b[39mnext_pos()\n\u001b[1;32m     28\u001b[0m \u001b[38;5;66;03m# check for loop with obstacle in next_pos\u001b[39;00m\n\u001b[0;32m---> 29\u001b[0m \u001b[38;5;28;01mif\u001b[39;00m \u001b[38;5;28mself\u001b[39m\u001b[38;5;241m.\u001b[39mwith_obs: \u001b[38;5;28;43mself\u001b[39;49m\u001b[38;5;241;43m.\u001b[39;49m\u001b[43mcheck_with_obs\u001b[49m\u001b[43m(\u001b[49m\u001b[43mnext_pos\u001b[49m\u001b[43m)\u001b[49m\n\u001b[1;32m     31\u001b[0m \u001b[38;5;66;03m# out of bounds\u001b[39;00m\n\u001b[1;32m     32\u001b[0m \u001b[38;5;28;01mif\u001b[39;00m \u001b[38;5;28mself\u001b[39m\u001b[38;5;241m.\u001b[39mout_of_bounds(next_pos): \n",
      "Cell \u001b[0;32mIn[2], line 71\u001b[0m, in \u001b[0;36mGridStateMachine.check_with_obs\u001b[0;34m(self, next_pos)\u001b[0m\n\u001b[1;32m     69\u001b[0m grid_copy[next_pos[\u001b[38;5;241m0\u001b[39m]][next_pos[\u001b[38;5;241m1\u001b[39m]] \u001b[38;5;241m=\u001b[39m \u001b[38;5;124m'\u001b[39m\u001b[38;5;124mO\u001b[39m\u001b[38;5;124m'\u001b[39m\n\u001b[1;32m     70\u001b[0m gsm \u001b[38;5;241m=\u001b[39m GridStateMachine(grid_copy, \u001b[38;5;28mself\u001b[39m\u001b[38;5;241m.\u001b[39mpos, \u001b[38;5;28mself\u001b[39m\u001b[38;5;241m.\u001b[39mdir_ind, \u001b[38;5;28;01mFalse\u001b[39;00m)\n\u001b[0;32m---> 71\u001b[0m loop_found \u001b[38;5;241m=\u001b[39m \u001b[43mgsm\u001b[49m\u001b[38;5;241;43m.\u001b[39;49m\u001b[43mrun\u001b[49m\u001b[43m(\u001b[49m\u001b[43m)\u001b[49m\n\u001b[1;32m     72\u001b[0m \u001b[38;5;28;01mif\u001b[39;00m loop_found: \n\u001b[1;32m     73\u001b[0m     \u001b[38;5;28mprint\u001b[39m(\u001b[38;5;124m\"\u001b[39m\u001b[38;5;124mloop_found with obstacle position: \u001b[39m\u001b[38;5;124m\"\u001b[39m, next_pos)\n",
      "Cell \u001b[0;32mIn[2], line 44\u001b[0m, in \u001b[0;36mGridStateMachine.run\u001b[0;34m(self)\u001b[0m\n\u001b[1;32m     42\u001b[0m loop \u001b[38;5;241m=\u001b[39m \u001b[38;5;28mself\u001b[39m\u001b[38;5;241m.\u001b[39mcheck_state()\n\u001b[1;32m     43\u001b[0m \u001b[38;5;28;01mif\u001b[39;00m loop: \n\u001b[0;32m---> 44\u001b[0m     \u001b[38;5;28;43mself\u001b[39;49m\u001b[38;5;241;43m.\u001b[39;49m\u001b[43mwrite_grid_to_file\u001b[49m\u001b[43m(\u001b[49m\u001b[43m)\u001b[49m\n\u001b[1;32m     45\u001b[0m     \u001b[38;5;28;01mreturn\u001b[39;00m \u001b[38;5;28;01mTrue\u001b[39;00m\n",
      "Cell \u001b[0;32mIn[2], line 56\u001b[0m, in \u001b[0;36mGridStateMachine.write_grid_to_file\u001b[0;34m(self)\u001b[0m\n\u001b[1;32m     54\u001b[0m         \u001b[38;5;28;01mif\u001b[39;00m c \u001b[38;5;241m==\u001b[39m \u001b[38;5;124m'\u001b[39m\u001b[38;5;124mO\u001b[39m\u001b[38;5;124m'\u001b[39m:\n\u001b[1;32m     55\u001b[0m             pos \u001b[38;5;241m=\u001b[39m (r_ind, c_ind)\n\u001b[0;32m---> 56\u001b[0m \u001b[43mos\u001b[49m\u001b[38;5;241;43m.\u001b[39;49m\u001b[43mrmdir\u001b[49m\u001b[43m(\u001b[49m\u001b[38;5;124;43m\"\u001b[39;49m\u001b[38;5;124;43moutputs\u001b[39;49m\u001b[38;5;124;43m\"\u001b[39;49m\u001b[43m)\u001b[49m\n\u001b[1;32m     57\u001b[0m os\u001b[38;5;241m.\u001b[39mmkdir(\u001b[38;5;124m\"\u001b[39m\u001b[38;5;124moutputs\u001b[39m\u001b[38;5;124m\"\u001b[39m)\n\u001b[1;32m     58\u001b[0m \u001b[38;5;28;01mwith\u001b[39;00m \u001b[38;5;28mopen\u001b[39m(\u001b[38;5;124mf\u001b[39m\u001b[38;5;124m\"\u001b[39m\u001b[38;5;124m./outputs/grid_for_obs_at_\u001b[39m\u001b[38;5;132;01m{\u001b[39;00mpos\u001b[38;5;132;01m}\u001b[39;00m\u001b[38;5;124m.txt\u001b[39m\u001b[38;5;124m\"\u001b[39m, \u001b[38;5;124m\"\u001b[39m\u001b[38;5;124mw\u001b[39m\u001b[38;5;124m\"\u001b[39m) \u001b[38;5;28;01mas\u001b[39;00m file:\n",
      "\u001b[0;31mFileNotFoundError\u001b[0m: [Errno 2] No such file or directory: 'outputs'"
     ]
    }
   ],
   "source": [
    "gsm = GridStateMachine(grid, start_pos,0, True)\n",
    "gsm.run()\n",
    "print(gsm.obs_list)\n",
    "print(\"obs: \",len(gsm.obs_list))\n",
    "\n"
   ]
  },
  {
   "cell_type": "code",
   "execution_count": null,
   "metadata": {},
   "outputs": [
    {
     "data": {
      "text/plain": [
       "()"
      ]
     },
     "execution_count": 4,
     "metadata": {},
     "output_type": "execute_result"
    }
   ],
   "source": [
    "()"
   ]
  }
 ],
 "metadata": {
  "kernelspec": {
   "display_name": "aoc_2024",
   "language": "python",
   "name": "python3"
  },
  "language_info": {
   "codemirror_mode": {
    "name": "ipython",
    "version": 3
   },
   "file_extension": ".py",
   "mimetype": "text/x-python",
   "name": "python",
   "nbconvert_exporter": "python",
   "pygments_lexer": "ipython3",
   "version": "3.12.7"
  }
 },
 "nbformat": 4,
 "nbformat_minor": 2
}
