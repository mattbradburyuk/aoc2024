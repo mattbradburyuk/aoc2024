{
 "cells": [
  {
   "cell_type": "code",
   "execution_count": 1,
   "metadata": {},
   "outputs": [],
   "source": [
    "# Prep\n",
    "\n",
    "f = \"day2_input.txt\"\n",
    "# f = \"day2_test.txt\"\n",
    "\n",
    "with open(f) as file:\n",
    "    contents = file.read()\n",
    "\n",
    "str_lines = contents.splitlines()\n",
    "\n",
    "lines = []\n",
    "\n",
    "for i, s in enumerate(str_lines):\n",
    "    strs = s.split()\n",
    "    lines.append(list(map(int,strs)))\n",
    "\n"
   ]
  },
  {
   "cell_type": "code",
   "execution_count": 2,
   "metadata": {},
   "outputs": [],
   "source": [
    "# Function checks if a line would pass\n",
    "\n",
    "def line_check(line):\n",
    "\n",
    "    asc_pass = True\n",
    "    dec_pass = True\n",
    "    for i in range(1,len(line)):\n",
    "        if  not (line[i-1] < line[i] and abs(line[i] - line[i-1]) <= 3):\n",
    "            asc_pass = False\n",
    "\n",
    "    for i in range(1,len(line)):\n",
    "        if  not (line[i-1] > line[i] and abs(line[i] - line[i-1]) <= 3):\n",
    "            dec_pass = False\n",
    "    \n",
    "    return asc_pass or dec_pass"
   ]
  },
  {
   "cell_type": "code",
   "execution_count": 3,
   "metadata": {},
   "outputs": [
    {
     "name": "stdout",
     "output_type": "stream",
     "text": [
      "356\n"
     ]
    }
   ],
   "source": [
    "# Part 1\n",
    "\n",
    "count_passes = 0 \n",
    "\n",
    "for line in lines:\n",
    "    if line_check(line):\n",
    "        count_passes += 1\n",
    "\n",
    "print(count_passes)"
   ]
  },
  {
   "cell_type": "code",
   "execution_count": 4,
   "metadata": {},
   "outputs": [
    {
     "name": "stdout",
     "output_type": "stream",
     "text": [
      "413\n"
     ]
    }
   ],
   "source": [
    "# Part 2\n",
    "\n",
    "count_passes = 0\n",
    "\n",
    "for line in lines:\n",
    "\n",
    "    line_pass = False\n",
    "    \n",
    "    # Try the original lines\n",
    "    if line_check(line):\n",
    "        count_passes += 1\n",
    "        continue\n",
    "    \n",
    "    # Chop numbers out until one works\n",
    "    for i in range(len(line)):\n",
    "        alt_line = line.copy()\n",
    "        del alt_line[i]\n",
    "        if line_check(alt_line):\n",
    "            count_passes += 1\n",
    "            break\n",
    "            \n",
    "print(count_passes)"
   ]
  }
 ],
 "metadata": {
  "kernelspec": {
   "display_name": "aoc_2024",
   "language": "python",
   "name": "python3"
  },
  "language_info": {
   "codemirror_mode": {
    "name": "ipython",
    "version": 3
   },
   "file_extension": ".py",
   "mimetype": "text/x-python",
   "name": "python",
   "nbconvert_exporter": "python",
   "pygments_lexer": "ipython3",
   "version": "3.12.7"
  }
 },
 "nbformat": 4,
 "nbformat_minor": 2
}
